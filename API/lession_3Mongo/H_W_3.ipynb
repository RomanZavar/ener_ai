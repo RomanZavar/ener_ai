{
 "cells": [
  {
   "cell_type": "code",
   "execution_count": 3,
   "metadata": {},
   "outputs": [],
   "source": [
    "import os\n",
    "import json\n",
    "from pymongo import MongoClient"
   ]
  },
  {
   "cell_type": "code",
   "execution_count": 23,
   "metadata": {},
   "outputs": [],
   "source": [
    "# Чтение данных из JSON файла\n",
    "with open(\"books_from_books.toscrape.com.json\", \"r\", encoding='utf-8') as file:\n",
    "    data = json.load(file)"
   ]
  },
  {
   "cell_type": "code",
   "execution_count": 24,
   "metadata": {},
   "outputs": [],
   "source": [
    "# Соединение с MongoDB\n",
    "client = MongoClient('localhost', 27017)\n",
    "db = client['my_books_database']"
   ]
  },
  {
   "cell_type": "code",
   "execution_count": 25,
   "metadata": {},
   "outputs": [],
   "source": [
    "# Создание коллекции на основании данных из JSON файла\n",
    "collection_name = \"Список книг от 12-03-2024\"\n",
    "for item in data:\n",
    "    collection = db[collection_name]\n",
    "    collection.insert_one(item)\n",
    "\n",
    "client.close()"
   ]
  },
  {
   "cell_type": "code",
   "execution_count": 26,
   "metadata": {},
   "outputs": [],
   "source": [
    "# Установление связи с MongoDB\n",
    "client = MongoClient('localhost', 27017)\n",
    "db = client['my_books_database']\n",
    "collection = db['Список книг от 12-03-2024']"
   ]
  },
  {
   "cell_type": "code",
   "execution_count": 27,
   "metadata": {},
   "outputs": [
    {
     "name": "stdout",
     "output_type": "stream",
     "text": [
      "Количества документов в коллекции: 1000\n"
     ]
    }
   ],
   "source": [
    "#### Просмотр количества документов в коллекции\n",
    "document_count = collection.count_documents({})\n",
    "print(\"Количества документов в коллекции:\", document_count)"
   ]
  },
  {
   "cell_type": "code",
   "execution_count": 28,
   "metadata": {},
   "outputs": [
    {
     "name": "stdout",
     "output_type": "stream",
     "text": [
      "Количество книг дороже 59 фунтов -  12 :\n",
      "Название книги: Thomas Jefferson and the Tripoli Pirates: The Forgotten War That Changed American History\n",
      "Название книги: The Gray Rhino: How to Recognize and Act on the Obvious Dangers We Ignore\n",
      "Название книги: The Diary of a Young Girl\n",
      "Название книги: Boar Island (Anna Pigeon #19)\n",
      "Название книги: The Improbability of Love\n",
      "Название книги: The Man Who Mistook His Wife for a Hat and Other Clinical Tales\n",
      "Название книги: The Barefoot Contessa Cookbook\n",
      "Название книги: Last One Home (New Beginnings #1)\n",
      "Название книги: The Perfect Play (Play by Play #1)\n",
      "Название книги: The Bone Hunters (Lexy Vaughan & Steven Macaulay #2)\n",
      "Название книги: Life Without a Recipe\n",
      "Название книги: Civilization and Its Discontents\n"
     ]
    }
   ],
   "source": [
    "# Запрос количества и названий книг, дороже 50 фунтов\n",
    "query = {\"Цена в фунтах стерлингов\": {\"$gt\": 59.0}}\n",
    "\n",
    "# Получения документов, соответствующих запросу\n",
    "documents = collection.find(query)\n",
    "\n",
    "print(\"Количество книг дороже 59 фунтов - \", collection.count_documents(query), \":\")\n",
    "\n",
    "# Отображение названий книг\n",
    "for document in documents:\n",
    "    print(\"Название книги:\", document['Название'])"
   ]
  },
  {
   "cell_type": "code",
   "execution_count": 29,
   "metadata": {},
   "outputs": [
    {
     "name": "stdout",
     "output_type": "stream",
     "text": [
      "Минимальная цена: 10.0\n",
      "Максимальная цена: 59.99\n"
     ]
    }
   ],
   "source": [
    "### Запрос для определения максимальной и минимальной цены книги в коллекции\n",
    "\n",
    "# Определение конвеера для агрегации данных\n",
    "pipeline = [\n",
    "    {\"$group\": {\"_id\": None, \"max_price\": {\"$max\": \"$Цена в фунтах стерлингов\"}, \"min_price\": {\"$min\": \"$Цена в фунтах стерлингов\"}}}\n",
    "]\n",
    "\n",
    "# Применение конвеера\n",
    "result = list(collection.aggregate(pipeline))\n",
    "\n",
    "# Получение минимального и максимального значений\n",
    "max_price = result[0][\"max_price\"]\n",
    "min_price = result[0][\"min_price\"]\n",
    "\n",
    "# Печать результатов\n",
    "print(\"Минимальная цена:\", min_price)\n",
    "print(\"Максимальная цена:\", max_price)"
   ]
  },
  {
   "cell_type": "code",
   "execution_count": 31,
   "metadata": {},
   "outputs": [
    {
     "name": "stdout",
     "output_type": "stream",
     "text": [
      "Категория по стоимости: Низкая стоимость\n",
      "Количество в наличии: 912\n",
      "\n",
      "Категория по стоимости: Средная стоимость\n",
      "Количество в наличии: 1722\n",
      "\n",
      "Категория по стоимости: Высокая стоимость\n",
      "Количество в наличии: 5951\n",
      "\n",
      "Общее количество книг в наличии: 8585\n"
     ]
    }
   ],
   "source": [
    "# Создание конвеера для разбиения всех книг по стоимости на три категории: низкая стоимость (дешевле 15 фунтов), средня стоимость (от 15 до 25 фунтов) и высокая стоимость (выше 25 фунтов). Затем подсчет количества книг в каждой категории агрегацией по полю \"Количество в наличии\"\n",
    "pipeline_by_group = [\n",
    "    {\n",
    "        \"$group\": {\n",
    "            \"_id\": {\n",
    "                \"$cond\": {\n",
    "                    \"if\": {\"$lte\": [\"$Цена в фунтах стерлингов\", 15]},\n",
    "                    \"then\": \"Низкая стоимость\",\n",
    "                    \"else\": {\n",
    "                        \"$cond\": {\n",
    "                            \"if\": {\"$lte\": [\"$Цена в фунтах стерлингов\", 25]},\n",
    "                            \"then\": \"Средная стоимость\",\n",
    "                            \"else\": \"Высокая стоимость\"\n",
    "                        }\n",
    "                    }\n",
    "                }\n",
    "            },\n",
    "            \"Количество в наличии\": {\"$sum\": \"$Количество в наличии\"}\n",
    "        }\n",
    "    }\n",
    "]\n",
    "\n",
    "# Выполнение конвеера\n",
    "result_by_group = list(collection.aggregate(pipeline_by_group))\n",
    "\n",
    "# Печать результатов\n",
    "for category in result_by_group:\n",
    "    print(\"Категория по стоимости:\", category[\"_id\"])\n",
    "    print(\"Количество в наличии:\", category[\"Количество в наличии\"])\n",
    "    print()\n",
    "\n",
    "# Создание конвеера для определения суммарного количества всех книг по полю \"Количество в наличии\"\n",
    "pipeline_total_count = [\n",
    "    {\n",
    "        \"$group\": {\n",
    "            \"_id\": None,\n",
    "            \"total_count\": {\"$sum\": \"$Количество в наличии\"}\n",
    "        }\n",
    "    }\n",
    "]\n",
    "\n",
    "# Выполнение конвеера\n",
    "result_total_count = list(collection.aggregate(pipeline_total_count))\n",
    "\n",
    "# Отображение результата\n",
    "total_count = result_total_count[0]['total_count'] if result_total_count else 0\n",
    "print(\"Общее количество книг в наличии:\", total_count) #### совпадает с суммой книг в наличии по категориям стоимости"
   ]
  },
  {
   "cell_type": "markdown",
   "metadata": {},
   "source": [
    "Зарегистрируйтесь в ClickHouse.\n",
    "Загрузите данные в ClickHouse и создайте таблицу для их хранения"
   ]
  },
  {
   "cell_type": "code",
   "execution_count": 1,
   "metadata": {},
   "outputs": [
    {
     "name": "stdout",
     "output_type": "stream",
     "text": [
      "Collecting clickhouse_driver\n",
      "  Downloading clickhouse_driver-0.2.7-cp312-cp312-win_amd64.whl.metadata (6.3 kB)\n",
      "Requirement already satisfied: pytz in c:\\users\\ramze\\appdata\\local\\programs\\python\\python312\\lib\\site-packages (from clickhouse_driver) (2024.1)\n",
      "Collecting tzlocal (from clickhouse_driver)\n",
      "  Downloading tzlocal-5.2-py3-none-any.whl.metadata (7.8 kB)\n",
      "Requirement already satisfied: tzdata in c:\\users\\ramze\\appdata\\local\\programs\\python\\python312\\lib\\site-packages (from tzlocal->clickhouse_driver) (2024.1)\n",
      "Downloading clickhouse_driver-0.2.7-cp312-cp312-win_amd64.whl (212 kB)\n",
      "   ---------------------------------------- 0.0/212.2 kB ? eta -:--:--\n",
      "   - -------------------------------------- 10.2/212.2 kB ? eta -:--:--\n",
      "   ----- --------------------------------- 30.7/212.2 kB 262.6 kB/s eta 0:00:01\n",
      "   ------- ------------------------------- 41.0/212.2 kB 245.8 kB/s eta 0:00:01\n",
      "   ------------- ------------------------- 71.7/212.2 kB 357.2 kB/s eta 0:00:01\n",
      "   --------------------------- ---------- 153.6/212.2 kB 573.4 kB/s eta 0:00:01\n",
      "   ------------------------------------ - 204.8/212.2 kB 731.4 kB/s eta 0:00:01\n",
      "   -------------------------------------- 212.2/212.2 kB 645.3 kB/s eta 0:00:00\n",
      "Downloading tzlocal-5.2-py3-none-any.whl (17 kB)\n",
      "Installing collected packages: tzlocal, clickhouse_driver\n",
      "Successfully installed clickhouse_driver-0.2.7 tzlocal-5.2\n"
     ]
    }
   ],
   "source": [
    "!pip install clickhouse_driver"
   ]
  },
  {
   "cell_type": "code",
   "execution_count": 29,
   "metadata": {},
   "outputs": [],
   "source": [
    "from clickhouse_driver import Client"
   ]
  },
  {
   "cell_type": "code",
   "execution_count": 32,
   "metadata": {},
   "outputs": [],
   "source": [
    "client = Client(host = \"b3xdjlz1rs.europe-west4.gcp.clickhouse.cloud\",\n",
    "                user = 'default',\n",
    "                secure = True,\n",
    "                port = 9440, \n",
    "                password = '8Z0vK_Stx~MLg')\n"
   ]
  },
  {
   "cell_type": "markdown",
   "metadata": {},
   "source": [
    "Вопрос к преподователю подключен к порту с лекции 9440 мой порт 8443 выбивает ошибку с чем связано? подключение к клик хаус осущественно с помощю впн. в этом причина?"
   ]
  },
  {
   "cell_type": "code",
   "execution_count": 28,
   "metadata": {},
   "outputs": [
    {
     "data": {
      "text/plain": [
       "[('trips',)]"
      ]
     },
     "execution_count": 28,
     "metadata": {},
     "output_type": "execute_result"
    }
   ],
   "source": [
    "client.execute('SHOW TABLES')"
   ]
  },
  {
   "cell_type": "code",
   "execution_count": 33,
   "metadata": {},
   "outputs": [
    {
     "ename": "ServerException",
     "evalue": "Code: 57.\nDB::Exception: Table default.trips already exists. Stack trace:\n\n0. DB::Exception::Exception(DB::Exception::MessageMasked&&, int, bool) @ 0x000000000cab03fb in /usr/bin/clickhouse\n1. DB::Exception::Exception<String, String>(int, FormatStringHelperImpl<std::type_identity<String>::type, std::type_identity<String>::type>, String&&, String&&) @ 0x000000000739181d in /usr/bin/clickhouse\n2. DB::InterpreterCreateQuery::doCreateTable(DB::ASTCreateQuery&, DB::InterpreterCreateQuery::TableProperties const&, std::unique_ptr<DB::DDLGuard, std::default_delete<DB::DDLGuard>>&) @ 0x000000001184def4 in /usr/bin/clickhouse\n3. DB::InterpreterCreateQuery::createTable(DB::ASTCreateQuery&) @ 0x000000001183c311 in /usr/bin/clickhouse\n4. DB::InterpreterCreateQuery::execute() @ 0x0000000011824d0f in /usr/bin/clickhouse\n5. DB::executeQueryImpl(char const*, char const*, std::shared_ptr<DB::Context>, DB::QueryFlags, DB::QueryProcessingStage::Enum, DB::ReadBuffer*) @ 0x0000000011dd6154 in /usr/bin/clickhouse\n6. DB::executeQuery(DB::ReadBuffer&, DB::WriteBuffer&, bool, std::shared_ptr<DB::Context>, std::function<void (DB::QueryResultDetails const&)>, DB::QueryFlags, std::optional<DB::FormatSettings> const&, std::function<void (DB::IOutputFormat&)>) @ 0x0000000011ddaf2a in /usr/bin/clickhouse\n7. DB::DDLWorker::tryExecuteQuery(DB::DDLTaskBase&, std::shared_ptr<zkutil::ZooKeeper> const&) @ 0x00000000111838a8 in /usr/bin/clickhouse\n8. DB::DDLWorker::processTask(DB::DDLTaskBase&, std::shared_ptr<zkutil::ZooKeeper> const&) @ 0x0000000011181e75 in /usr/bin/clickhouse\n9. DB::DatabaseReplicatedDDLWorker::tryEnqueueAndExecuteEntry(DB::DDLLogEntry&, std::shared_ptr<DB::Context const>) @ 0x0000000010dc817d in /usr/bin/clickhouse\n10. DB::DatabaseReplicated::tryEnqueueReplicatedDDL(std::shared_ptr<DB::IAST> const&, std::shared_ptr<DB::Context const>, DB::QueryFlags) @ 0x0000000010d9b27b in /usr/bin/clickhouse\n11. DB::InterpreterCreateQuery::createTable(DB::ASTCreateQuery&) @ 0x000000001183c014 in /usr/bin/clickhouse\n12. DB::InterpreterCreateQuery::execute() @ 0x0000000011824d0f in /usr/bin/clickhouse\n13. DB::executeQueryImpl(char const*, char const*, std::shared_ptr<DB::Context>, DB::QueryFlags, DB::QueryProcessingStage::Enum, DB::ReadBuffer*) @ 0x0000000011dd6154 in /usr/bin/clickhouse\n14. DB::executeQuery(String const&, std::shared_ptr<DB::Context>, DB::QueryFlags, DB::QueryProcessingStage::Enum) @ 0x0000000011dd1bda in /usr/bin/clickhouse\n15. DB::TCPHandler::runImpl() @ 0x000000001300cfc9 in /usr/bin/clickhouse\n16. DB::TCPHandler::run() @ 0x0000000013024ff9 in /usr/bin/clickhouse\n17. DB::TCPProtocolStackHandler::run() @ 0x000000000cc7d1d1 in /usr/bin/clickhouse\n18. Poco::Net::TCPServerConnection::start() @ 0x000000001590abd2 in /usr/bin/clickhouse\n19. Poco::Net::TCPServerDispatcher::run() @ 0x000000001590b9d1 in /usr/bin/clickhouse\n20. Poco::PooledThread::run() @ 0x0000000015a045c7 in /usr/bin/clickhouse\n21. Poco::ThreadImpl::runnableEntry(void*) @ 0x0000000015a02bfd in /usr/bin/clickhouse\n22. ? @ 0x00007feb701adac3\n23. ? @ 0x00007feb7023f850\n",
     "output_type": "error",
     "traceback": [
      "\u001b[1;31m---------------------------------------------------------------------------\u001b[0m",
      "\u001b[1;31mServerException\u001b[0m                           Traceback (most recent call last)",
      "Cell \u001b[1;32mIn[33], line 1\u001b[0m\n\u001b[1;32m----> 1\u001b[0m \u001b[43mclient\u001b[49m\u001b[38;5;241;43m.\u001b[39;49m\u001b[43mexecute\u001b[49m\u001b[43m \u001b[49m\u001b[43m(\u001b[49m\n\u001b[0;32m      2\u001b[0m \u001b[38;5;124;43;03m'''\u001b[39;49;00m\n\u001b[0;32m      3\u001b[0m \u001b[38;5;124;43;03mCREATE TABLE trips\u001b[39;49;00m\n\u001b[0;32m      4\u001b[0m \u001b[38;5;124;43;03m(\u001b[39;49;00m\n\u001b[0;32m      5\u001b[0m \u001b[38;5;124;43;03m    `trip_id` UInt32,\u001b[39;49;00m\n\u001b[0;32m      6\u001b[0m \u001b[38;5;124;43;03m    `vendor_id` Enum8('1' = 1, '2' = 2, '3' = 3, '4' = 4, 'CMT' = 5, 'VTS' = 6, 'DDS' = 7, 'B02512' = 10, 'B02598' = 11, 'B02617' = 12, 'B02682' = 13, 'B02764' = 14, '' = 15),\u001b[39;49;00m\n\u001b[0;32m      7\u001b[0m \u001b[38;5;124;43;03m    `pickup_date` Date,\u001b[39;49;00m\n\u001b[0;32m      8\u001b[0m \u001b[38;5;124;43;03m    `pickup_datetime` DateTime,\u001b[39;49;00m\n\u001b[0;32m      9\u001b[0m \u001b[38;5;124;43;03m    `dropoff_date` Date,\u001b[39;49;00m\n\u001b[0;32m     10\u001b[0m \u001b[38;5;124;43;03m    `dropoff_datetime` DateTime,\u001b[39;49;00m\n\u001b[0;32m     11\u001b[0m \u001b[38;5;124;43;03m    `store_and_fwd_flag` UInt8,\u001b[39;49;00m\n\u001b[0;32m     12\u001b[0m \u001b[38;5;124;43;03m    `rate_code_id` UInt8,\u001b[39;49;00m\n\u001b[0;32m     13\u001b[0m \u001b[38;5;124;43;03m    `pickup_longitude` Float64,\u001b[39;49;00m\n\u001b[0;32m     14\u001b[0m \u001b[38;5;124;43;03m    `pickup_latitude` Float64,\u001b[39;49;00m\n\u001b[0;32m     15\u001b[0m \u001b[38;5;124;43;03m    `dropoff_longitude` Float64,\u001b[39;49;00m\n\u001b[0;32m     16\u001b[0m \u001b[38;5;124;43;03m    `dropoff_latitude` Float64,\u001b[39;49;00m\n\u001b[0;32m     17\u001b[0m \u001b[38;5;124;43;03m    `passenger_count` UInt8,\u001b[39;49;00m\n\u001b[0;32m     18\u001b[0m \u001b[38;5;124;43;03m    `trip_distance` Float64,\u001b[39;49;00m\n\u001b[0;32m     19\u001b[0m \u001b[38;5;124;43;03m    `fare_amount` Float32,\u001b[39;49;00m\n\u001b[0;32m     20\u001b[0m \u001b[38;5;124;43;03m    `extra` Float32,\u001b[39;49;00m\n\u001b[0;32m     21\u001b[0m \u001b[38;5;124;43;03m    `mta_tax` Float32,\u001b[39;49;00m\n\u001b[0;32m     22\u001b[0m \u001b[38;5;124;43;03m    `tip_amount` Float32,\u001b[39;49;00m\n\u001b[0;32m     23\u001b[0m \u001b[38;5;124;43;03m    `tolls_amount` Float32,\u001b[39;49;00m\n\u001b[0;32m     24\u001b[0m \u001b[38;5;124;43;03m    `ehail_fee` Float32,\u001b[39;49;00m\n\u001b[0;32m     25\u001b[0m \u001b[38;5;124;43;03m    `improvement_surcharge` Float32,\u001b[39;49;00m\n\u001b[0;32m     26\u001b[0m \u001b[38;5;124;43;03m    `total_amount` Float32,\u001b[39;49;00m\n\u001b[0;32m     27\u001b[0m \u001b[38;5;124;43;03m    `payment_type` Enum8('UNK' = 0, 'CSH' = 1, 'CRE' = 2, 'NOC' = 3, 'DIS' = 4),\u001b[39;49;00m\n\u001b[0;32m     28\u001b[0m \u001b[38;5;124;43;03m    `trip_type` UInt8,\u001b[39;49;00m\n\u001b[0;32m     29\u001b[0m \u001b[38;5;124;43;03m    `pickup` FixedString(25),\u001b[39;49;00m\n\u001b[0;32m     30\u001b[0m \u001b[38;5;124;43;03m    `dropoff` FixedString(25),\u001b[39;49;00m\n\u001b[0;32m     31\u001b[0m \u001b[38;5;124;43;03m    `cab_type` Enum8('yellow' = 1, 'green' = 2, 'uber' = 3),\u001b[39;49;00m\n\u001b[0;32m     32\u001b[0m \u001b[38;5;124;43;03m    `pickup_nyct2010_gid` Int8,\u001b[39;49;00m\n\u001b[0;32m     33\u001b[0m \u001b[38;5;124;43;03m    `pickup_ctlabel` Float32,\u001b[39;49;00m\n\u001b[0;32m     34\u001b[0m \u001b[38;5;124;43;03m    `pickup_borocode` Int8,\u001b[39;49;00m\n\u001b[0;32m     35\u001b[0m \u001b[38;5;124;43;03m    `pickup_ct2010` String,\u001b[39;49;00m\n\u001b[0;32m     36\u001b[0m \u001b[38;5;124;43;03m    `pickup_boroct2010` String,\u001b[39;49;00m\n\u001b[0;32m     37\u001b[0m \u001b[38;5;124;43;03m    `pickup_cdeligibil` String,\u001b[39;49;00m\n\u001b[0;32m     38\u001b[0m \u001b[38;5;124;43;03m    `pickup_ntacode` FixedString(4),\u001b[39;49;00m\n\u001b[0;32m     39\u001b[0m \u001b[38;5;124;43;03m    `pickup_ntaname` String,\u001b[39;49;00m\n\u001b[0;32m     40\u001b[0m \u001b[38;5;124;43;03m    `pickup_puma` UInt16,\u001b[39;49;00m\n\u001b[0;32m     41\u001b[0m \u001b[38;5;124;43;03m    `dropoff_nyct2010_gid` UInt8,\u001b[39;49;00m\n\u001b[0;32m     42\u001b[0m \u001b[38;5;124;43;03m    `dropoff_ctlabel` Float32,\u001b[39;49;00m\n\u001b[0;32m     43\u001b[0m \u001b[38;5;124;43;03m    `dropoff_borocode` UInt8,\u001b[39;49;00m\n\u001b[0;32m     44\u001b[0m \u001b[38;5;124;43;03m    `dropoff_ct2010` String,\u001b[39;49;00m\n\u001b[0;32m     45\u001b[0m \u001b[38;5;124;43;03m    `dropoff_boroct2010` String,\u001b[39;49;00m\n\u001b[0;32m     46\u001b[0m \u001b[38;5;124;43;03m    `dropoff_cdeligibil` String,\u001b[39;49;00m\n\u001b[0;32m     47\u001b[0m \u001b[38;5;124;43;03m    `dropoff_ntacode` FixedString(4),\u001b[39;49;00m\n\u001b[0;32m     48\u001b[0m \u001b[38;5;124;43;03m    `dropoff_ntaname` String,\u001b[39;49;00m\n\u001b[0;32m     49\u001b[0m \u001b[38;5;124;43;03m    `dropoff_puma` UInt16\u001b[39;49;00m\n\u001b[0;32m     50\u001b[0m \u001b[38;5;124;43;03m)\u001b[39;49;00m\n\u001b[0;32m     51\u001b[0m \u001b[38;5;124;43;03mENGINE = MergeTree\u001b[39;49;00m\n\u001b[0;32m     52\u001b[0m \u001b[38;5;124;43;03mPARTITION BY toYYYYMM(pickup_date)\u001b[39;49;00m\n\u001b[0;32m     53\u001b[0m \u001b[38;5;124;43;03mORDER BY pickup_datetime;\u001b[39;49;00m\n\u001b[0;32m     54\u001b[0m \u001b[38;5;124;43;03m'''\u001b[39;49;00m\n\u001b[0;32m     55\u001b[0m \u001b[43m)\u001b[49m\n",
      "File \u001b[1;32mc:\\Users\\ramze\\AppData\\Local\\Programs\\Python\\Python312\\Lib\\site-packages\\clickhouse_driver\\client.py:382\u001b[0m, in \u001b[0;36mClient.execute\u001b[1;34m(self, query, params, with_column_types, external_tables, query_id, settings, types_check, columnar)\u001b[0m\n\u001b[0;32m    376\u001b[0m     rv \u001b[38;5;241m=\u001b[39m \u001b[38;5;28mself\u001b[39m\u001b[38;5;241m.\u001b[39mprocess_insert_query(\n\u001b[0;32m    377\u001b[0m         query, params, external_tables\u001b[38;5;241m=\u001b[39mexternal_tables,\n\u001b[0;32m    378\u001b[0m         query_id\u001b[38;5;241m=\u001b[39mquery_id, types_check\u001b[38;5;241m=\u001b[39mtypes_check,\n\u001b[0;32m    379\u001b[0m         columnar\u001b[38;5;241m=\u001b[39mcolumnar\n\u001b[0;32m    380\u001b[0m     )\n\u001b[0;32m    381\u001b[0m \u001b[38;5;28;01melse\u001b[39;00m:\n\u001b[1;32m--> 382\u001b[0m     rv \u001b[38;5;241m=\u001b[39m \u001b[38;5;28;43mself\u001b[39;49m\u001b[38;5;241;43m.\u001b[39;49m\u001b[43mprocess_ordinary_query\u001b[49m\u001b[43m(\u001b[49m\n\u001b[0;32m    383\u001b[0m \u001b[43m        \u001b[49m\u001b[43mquery\u001b[49m\u001b[43m,\u001b[49m\u001b[43m \u001b[49m\u001b[43mparams\u001b[49m\u001b[38;5;241;43m=\u001b[39;49m\u001b[43mparams\u001b[49m\u001b[43m,\u001b[49m\u001b[43m \u001b[49m\u001b[43mwith_column_types\u001b[49m\u001b[38;5;241;43m=\u001b[39;49m\u001b[43mwith_column_types\u001b[49m\u001b[43m,\u001b[49m\n\u001b[0;32m    384\u001b[0m \u001b[43m        \u001b[49m\u001b[43mexternal_tables\u001b[49m\u001b[38;5;241;43m=\u001b[39;49m\u001b[43mexternal_tables\u001b[49m\u001b[43m,\u001b[49m\n\u001b[0;32m    385\u001b[0m \u001b[43m        \u001b[49m\u001b[43mquery_id\u001b[49m\u001b[38;5;241;43m=\u001b[39;49m\u001b[43mquery_id\u001b[49m\u001b[43m,\u001b[49m\u001b[43m \u001b[49m\u001b[43mtypes_check\u001b[49m\u001b[38;5;241;43m=\u001b[39;49m\u001b[43mtypes_check\u001b[49m\u001b[43m,\u001b[49m\n\u001b[0;32m    386\u001b[0m \u001b[43m        \u001b[49m\u001b[43mcolumnar\u001b[49m\u001b[38;5;241;43m=\u001b[39;49m\u001b[43mcolumnar\u001b[49m\n\u001b[0;32m    387\u001b[0m \u001b[43m    \u001b[49m\u001b[43m)\u001b[49m\n\u001b[0;32m    388\u001b[0m \u001b[38;5;28mself\u001b[39m\u001b[38;5;241m.\u001b[39mlast_query\u001b[38;5;241m.\u001b[39mstore_elapsed(time() \u001b[38;5;241m-\u001b[39m start_time)\n\u001b[0;32m    389\u001b[0m \u001b[38;5;28;01mreturn\u001b[39;00m rv\n",
      "File \u001b[1;32mc:\\Users\\ramze\\AppData\\Local\\Programs\\Python\\Python312\\Lib\\site-packages\\clickhouse_driver\\client.py:580\u001b[0m, in \u001b[0;36mClient.process_ordinary_query\u001b[1;34m(self, query, params, with_column_types, external_tables, query_id, types_check, columnar)\u001b[0m\n\u001b[0;32m    577\u001b[0m \u001b[38;5;28mself\u001b[39m\u001b[38;5;241m.\u001b[39mconnection\u001b[38;5;241m.\u001b[39msend_query(query, query_id\u001b[38;5;241m=\u001b[39mquery_id, params\u001b[38;5;241m=\u001b[39mparams)\n\u001b[0;32m    578\u001b[0m \u001b[38;5;28mself\u001b[39m\u001b[38;5;241m.\u001b[39mconnection\u001b[38;5;241m.\u001b[39msend_external_tables(external_tables,\n\u001b[0;32m    579\u001b[0m                                      types_check\u001b[38;5;241m=\u001b[39mtypes_check)\n\u001b[1;32m--> 580\u001b[0m \u001b[38;5;28;01mreturn\u001b[39;00m \u001b[38;5;28;43mself\u001b[39;49m\u001b[38;5;241;43m.\u001b[39;49m\u001b[43mreceive_result\u001b[49m\u001b[43m(\u001b[49m\u001b[43mwith_column_types\u001b[49m\u001b[38;5;241;43m=\u001b[39;49m\u001b[43mwith_column_types\u001b[49m\u001b[43m,\u001b[49m\n\u001b[0;32m    581\u001b[0m \u001b[43m                           \u001b[49m\u001b[43mcolumnar\u001b[49m\u001b[38;5;241;43m=\u001b[39;49m\u001b[43mcolumnar\u001b[49m\u001b[43m)\u001b[49m\n",
      "File \u001b[1;32mc:\\Users\\ramze\\AppData\\Local\\Programs\\Python\\Python312\\Lib\\site-packages\\clickhouse_driver\\client.py:213\u001b[0m, in \u001b[0;36mClient.receive_result\u001b[1;34m(self, with_column_types, progress, columnar)\u001b[0m\n\u001b[0;32m    209\u001b[0m \u001b[38;5;28;01melse\u001b[39;00m:\n\u001b[0;32m    210\u001b[0m     result \u001b[38;5;241m=\u001b[39m \u001b[38;5;28mself\u001b[39m\u001b[38;5;241m.\u001b[39mquery_result_cls(\n\u001b[0;32m    211\u001b[0m         gen, with_column_types\u001b[38;5;241m=\u001b[39mwith_column_types, columnar\u001b[38;5;241m=\u001b[39mcolumnar\n\u001b[0;32m    212\u001b[0m     )\n\u001b[1;32m--> 213\u001b[0m     \u001b[38;5;28;01mreturn\u001b[39;00m \u001b[43mresult\u001b[49m\u001b[38;5;241;43m.\u001b[39;49m\u001b[43mget_result\u001b[49m\u001b[43m(\u001b[49m\u001b[43m)\u001b[49m\n",
      "File \u001b[1;32mc:\\Users\\ramze\\AppData\\Local\\Programs\\Python\\Python312\\Lib\\site-packages\\clickhouse_driver\\result.py:50\u001b[0m, in \u001b[0;36mQueryResult.get_result\u001b[1;34m(self)\u001b[0m\n\u001b[0;32m     45\u001b[0m \u001b[38;5;28;01mdef\u001b[39;00m \u001b[38;5;21mget_result\u001b[39m(\u001b[38;5;28mself\u001b[39m):\n\u001b[0;32m     46\u001b[0m \u001b[38;5;250m    \u001b[39m\u001b[38;5;124;03m\"\"\"\u001b[39;00m\n\u001b[0;32m     47\u001b[0m \u001b[38;5;124;03m    :return: stored query result.\u001b[39;00m\n\u001b[0;32m     48\u001b[0m \u001b[38;5;124;03m    \"\"\"\u001b[39;00m\n\u001b[1;32m---> 50\u001b[0m \u001b[43m    \u001b[49m\u001b[38;5;28;43;01mfor\u001b[39;49;00m\u001b[43m \u001b[49m\u001b[43mpacket\u001b[49m\u001b[43m \u001b[49m\u001b[38;5;129;43;01min\u001b[39;49;00m\u001b[43m \u001b[49m\u001b[38;5;28;43mself\u001b[39;49m\u001b[38;5;241;43m.\u001b[39;49m\u001b[43mpacket_generator\u001b[49m\u001b[43m:\u001b[49m\n\u001b[0;32m     51\u001b[0m \u001b[43m        \u001b[49m\u001b[38;5;28;43mself\u001b[39;49m\u001b[38;5;241;43m.\u001b[39;49m\u001b[43mstore\u001b[49m\u001b[43m(\u001b[49m\u001b[43mpacket\u001b[49m\u001b[43m)\u001b[49m\n\u001b[0;32m     53\u001b[0m     data \u001b[38;5;241m=\u001b[39m \u001b[38;5;28mself\u001b[39m\u001b[38;5;241m.\u001b[39mdata\n",
      "File \u001b[1;32mc:\\Users\\ramze\\AppData\\Local\\Programs\\Python\\Python312\\Lib\\site-packages\\clickhouse_driver\\client.py:229\u001b[0m, in \u001b[0;36mClient.packet_generator\u001b[1;34m(self)\u001b[0m\n\u001b[0;32m    227\u001b[0m \u001b[38;5;28;01mwhile\u001b[39;00m \u001b[38;5;28;01mTrue\u001b[39;00m:\n\u001b[0;32m    228\u001b[0m     \u001b[38;5;28;01mtry\u001b[39;00m:\n\u001b[1;32m--> 229\u001b[0m         packet \u001b[38;5;241m=\u001b[39m \u001b[38;5;28;43mself\u001b[39;49m\u001b[38;5;241;43m.\u001b[39;49m\u001b[43mreceive_packet\u001b[49m\u001b[43m(\u001b[49m\u001b[43m)\u001b[49m\n\u001b[0;32m    230\u001b[0m         \u001b[38;5;28;01mif\u001b[39;00m \u001b[38;5;129;01mnot\u001b[39;00m packet:\n\u001b[0;32m    231\u001b[0m             \u001b[38;5;28;01mbreak\u001b[39;00m\n",
      "File \u001b[1;32mc:\\Users\\ramze\\AppData\\Local\\Programs\\Python\\Python312\\Lib\\site-packages\\clickhouse_driver\\client.py:246\u001b[0m, in \u001b[0;36mClient.receive_packet\u001b[1;34m(self)\u001b[0m\n\u001b[0;32m    243\u001b[0m packet \u001b[38;5;241m=\u001b[39m \u001b[38;5;28mself\u001b[39m\u001b[38;5;241m.\u001b[39mconnection\u001b[38;5;241m.\u001b[39mreceive_packet()\n\u001b[0;32m    245\u001b[0m \u001b[38;5;28;01mif\u001b[39;00m packet\u001b[38;5;241m.\u001b[39mtype \u001b[38;5;241m==\u001b[39m ServerPacketTypes\u001b[38;5;241m.\u001b[39mEXCEPTION:\n\u001b[1;32m--> 246\u001b[0m     \u001b[38;5;28;01mraise\u001b[39;00m packet\u001b[38;5;241m.\u001b[39mexception\n\u001b[0;32m    248\u001b[0m \u001b[38;5;28;01melif\u001b[39;00m packet\u001b[38;5;241m.\u001b[39mtype \u001b[38;5;241m==\u001b[39m ServerPacketTypes\u001b[38;5;241m.\u001b[39mPROGRESS:\n\u001b[0;32m    249\u001b[0m     \u001b[38;5;28mself\u001b[39m\u001b[38;5;241m.\u001b[39mlast_query\u001b[38;5;241m.\u001b[39mstore_progress(packet\u001b[38;5;241m.\u001b[39mprogress)\n",
      "\u001b[1;31mServerException\u001b[0m: Code: 57.\nDB::Exception: Table default.trips already exists. Stack trace:\n\n0. DB::Exception::Exception(DB::Exception::MessageMasked&&, int, bool) @ 0x000000000cab03fb in /usr/bin/clickhouse\n1. DB::Exception::Exception<String, String>(int, FormatStringHelperImpl<std::type_identity<String>::type, std::type_identity<String>::type>, String&&, String&&) @ 0x000000000739181d in /usr/bin/clickhouse\n2. DB::InterpreterCreateQuery::doCreateTable(DB::ASTCreateQuery&, DB::InterpreterCreateQuery::TableProperties const&, std::unique_ptr<DB::DDLGuard, std::default_delete<DB::DDLGuard>>&) @ 0x000000001184def4 in /usr/bin/clickhouse\n3. DB::InterpreterCreateQuery::createTable(DB::ASTCreateQuery&) @ 0x000000001183c311 in /usr/bin/clickhouse\n4. DB::InterpreterCreateQuery::execute() @ 0x0000000011824d0f in /usr/bin/clickhouse\n5. DB::executeQueryImpl(char const*, char const*, std::shared_ptr<DB::Context>, DB::QueryFlags, DB::QueryProcessingStage::Enum, DB::ReadBuffer*) @ 0x0000000011dd6154 in /usr/bin/clickhouse\n6. DB::executeQuery(DB::ReadBuffer&, DB::WriteBuffer&, bool, std::shared_ptr<DB::Context>, std::function<void (DB::QueryResultDetails const&)>, DB::QueryFlags, std::optional<DB::FormatSettings> const&, std::function<void (DB::IOutputFormat&)>) @ 0x0000000011ddaf2a in /usr/bin/clickhouse\n7. DB::DDLWorker::tryExecuteQuery(DB::DDLTaskBase&, std::shared_ptr<zkutil::ZooKeeper> const&) @ 0x00000000111838a8 in /usr/bin/clickhouse\n8. DB::DDLWorker::processTask(DB::DDLTaskBase&, std::shared_ptr<zkutil::ZooKeeper> const&) @ 0x0000000011181e75 in /usr/bin/clickhouse\n9. DB::DatabaseReplicatedDDLWorker::tryEnqueueAndExecuteEntry(DB::DDLLogEntry&, std::shared_ptr<DB::Context const>) @ 0x0000000010dc817d in /usr/bin/clickhouse\n10. DB::DatabaseReplicated::tryEnqueueReplicatedDDL(std::shared_ptr<DB::IAST> const&, std::shared_ptr<DB::Context const>, DB::QueryFlags) @ 0x0000000010d9b27b in /usr/bin/clickhouse\n11. DB::InterpreterCreateQuery::createTable(DB::ASTCreateQuery&) @ 0x000000001183c014 in /usr/bin/clickhouse\n12. DB::InterpreterCreateQuery::execute() @ 0x0000000011824d0f in /usr/bin/clickhouse\n13. DB::executeQueryImpl(char const*, char const*, std::shared_ptr<DB::Context>, DB::QueryFlags, DB::QueryProcessingStage::Enum, DB::ReadBuffer*) @ 0x0000000011dd6154 in /usr/bin/clickhouse\n14. DB::executeQuery(String const&, std::shared_ptr<DB::Context>, DB::QueryFlags, DB::QueryProcessingStage::Enum) @ 0x0000000011dd1bda in /usr/bin/clickhouse\n15. DB::TCPHandler::runImpl() @ 0x000000001300cfc9 in /usr/bin/clickhouse\n16. DB::TCPHandler::run() @ 0x0000000013024ff9 in /usr/bin/clickhouse\n17. DB::TCPProtocolStackHandler::run() @ 0x000000000cc7d1d1 in /usr/bin/clickhouse\n18. Poco::Net::TCPServerConnection::start() @ 0x000000001590abd2 in /usr/bin/clickhouse\n19. Poco::Net::TCPServerDispatcher::run() @ 0x000000001590b9d1 in /usr/bin/clickhouse\n20. Poco::PooledThread::run() @ 0x0000000015a045c7 in /usr/bin/clickhouse\n21. Poco::ThreadImpl::runnableEntry(void*) @ 0x0000000015a02bfd in /usr/bin/clickhouse\n22. ? @ 0x00007feb701adac3\n23. ? @ 0x00007feb7023f850\n"
     ]
    }
   ],
   "source": [
    "client.execute (\n",
    "'''\n",
    "CREATE TABLE trips\n",
    "(\n",
    "    `trip_id` UInt32,\n",
    "    `vendor_id` Enum8('1' = 1, '2' = 2, '3' = 3, '4' = 4, 'CMT' = 5, 'VTS' = 6, 'DDS' = 7, 'B02512' = 10, 'B02598' = 11, 'B02617' = 12, 'B02682' = 13, 'B02764' = 14, '' = 15),\n",
    "    `pickup_date` Date,\n",
    "    `pickup_datetime` DateTime,\n",
    "    `dropoff_date` Date,\n",
    "    `dropoff_datetime` DateTime,\n",
    "    `store_and_fwd_flag` UInt8,\n",
    "    `rate_code_id` UInt8,\n",
    "    `pickup_longitude` Float64,\n",
    "    `pickup_latitude` Float64,\n",
    "    `dropoff_longitude` Float64,\n",
    "    `dropoff_latitude` Float64,\n",
    "    `passenger_count` UInt8,\n",
    "    `trip_distance` Float64,\n",
    "    `fare_amount` Float32,\n",
    "    `extra` Float32,\n",
    "    `mta_tax` Float32,\n",
    "    `tip_amount` Float32,\n",
    "    `tolls_amount` Float32,\n",
    "    `ehail_fee` Float32,\n",
    "    `improvement_surcharge` Float32,\n",
    "    `total_amount` Float32,\n",
    "    `payment_type` Enum8('UNK' = 0, 'CSH' = 1, 'CRE' = 2, 'NOC' = 3, 'DIS' = 4),\n",
    "    `trip_type` UInt8,\n",
    "    `pickup` FixedString(25),\n",
    "    `dropoff` FixedString(25),\n",
    "    `cab_type` Enum8('yellow' = 1, 'green' = 2, 'uber' = 3),\n",
    "    `pickup_nyct2010_gid` Int8,\n",
    "    `pickup_ctlabel` Float32,\n",
    "    `pickup_borocode` Int8,\n",
    "    `pickup_ct2010` String,\n",
    "    `pickup_boroct2010` String,\n",
    "    `pickup_cdeligibil` String,\n",
    "    `pickup_ntacode` FixedString(4),\n",
    "    `pickup_ntaname` String,\n",
    "    `pickup_puma` UInt16,\n",
    "    `dropoff_nyct2010_gid` UInt8,\n",
    "    `dropoff_ctlabel` Float32,\n",
    "    `dropoff_borocode` UInt8,\n",
    "    `dropoff_ct2010` String,\n",
    "    `dropoff_boroct2010` String,\n",
    "    `dropoff_cdeligibil` String,\n",
    "    `dropoff_ntacode` FixedString(4),\n",
    "    `dropoff_ntaname` String,\n",
    "    `dropoff_puma` UInt16\n",
    ")\n",
    "ENGINE = MergeTree\n",
    "PARTITION BY toYYYYMM(pickup_date)\n",
    "ORDER BY pickup_datetime;\n",
    "'''\n",
    ")"
   ]
  },
  {
   "cell_type": "code",
   "execution_count": 23,
   "metadata": {},
   "outputs": [
    {
     "name": "stderr",
     "output_type": "stream",
     "text": [
      "Error on b3xdjlz1rs.europe-west4.gcp.clickhouse.cloud:9440 ping: Unexpected EOF while reading bytes\n",
      "Connection was closed, reconnecting.\n"
     ]
    },
    {
     "data": {
      "text/plain": [
       "[]"
      ]
     },
     "execution_count": 23,
     "metadata": {},
     "output_type": "execute_result"
    }
   ],
   "source": [
    "client.execute(\n",
    "'''\n",
    "INSERT INTO trips\n",
    "SELECT * FROM s3(\n",
    "    'https://datasets-documentation.s3.eu-west-3.amazonaws.com/nyc-taxi/trips_{1..2}.gz',\n",
    "    'TabSeparatedWithNames', \"\n",
    "    `trip_id` UInt32,\n",
    "    `vendor_id` Enum8('1' = 1, '2' = 2, '3' = 3, '4' = 4, 'CMT' = 5, 'VTS' = 6, 'DDS' = 7, 'B02512' = 10, 'B02598' = 11, 'B02617' = 12, 'B02682' = 13, 'B02764' = 14, '' = 15),\n",
    "    `pickup_date` Date,\n",
    "    `pickup_datetime` DateTime,\n",
    "    `dropoff_date` Date,\n",
    "    `dropoff_datetime` DateTime,\n",
    "    `store_and_fwd_flag` UInt8,\n",
    "    `rate_code_id` UInt8,\n",
    "    `pickup_longitude` Float64,\n",
    "    `pickup_latitude` Float64,\n",
    "    `dropoff_longitude` Float64,\n",
    "    `dropoff_latitude` Float64,\n",
    "    `passenger_count` UInt8,\n",
    "    `trip_distance` Float64,\n",
    "    `fare_amount` Float32,\n",
    "    `extra` Float32,\n",
    "    `mta_tax` Float32,\n",
    "    `tip_amount` Float32,\n",
    "    `tolls_amount` Float32,\n",
    "    `ehail_fee` Float32,\n",
    "    `improvement_surcharge` Float32,\n",
    "    `total_amount` Float32,\n",
    "    `payment_type` Enum8('UNK' = 0, 'CSH' = 1, 'CRE' = 2, 'NOC' = 3, 'DIS' = 4),\n",
    "    `trip_type` UInt8,\n",
    "    `pickup` FixedString(25),\n",
    "    `dropoff` FixedString(25),\n",
    "    `cab_type` Enum8('yellow' = 1, 'green' = 2, 'uber' = 3),\n",
    "    `pickup_nyct2010_gid` Int8,\n",
    "    `pickup_ctlabel` Float32,\n",
    "    `pickup_borocode` Int8,\n",
    "    `pickup_ct2010` String,\n",
    "    `pickup_boroct2010` String,\n",
    "    `pickup_cdeligibil` String,\n",
    "    `pickup_ntacode` FixedString(4),\n",
    "    `pickup_ntaname` String,\n",
    "    `pickup_puma` UInt16,\n",
    "    `dropoff_nyct2010_gid` UInt8,\n",
    "    `dropoff_ctlabel` Float32,\n",
    "    `dropoff_borocode` UInt8,\n",
    "    `dropoff_ct2010` String,\n",
    "    `dropoff_boroct2010` String,\n",
    "    `dropoff_cdeligibil` String,\n",
    "    `dropoff_ntacode` FixedString(4),\n",
    "    `dropoff_ntaname` String,\n",
    "    `dropoff_puma` UInt16\n",
    "\") SETTINGS input_format_try_infer_datetimes = 0\n",
    "'''\n",
    ")"
   ]
  },
  {
   "cell_type": "code",
   "execution_count": 34,
   "metadata": {},
   "outputs": [
    {
     "data": {
      "text/plain": [
       "[(1999657,)]"
      ]
     },
     "execution_count": 34,
     "metadata": {},
     "output_type": "execute_result"
    }
   ],
   "source": [
    "client.execute(\"SELECT count() FROM trips\")"
   ]
  },
  {
   "cell_type": "code",
   "execution_count": 35,
   "metadata": {},
   "outputs": [
    {
     "name": "stdout",
     "output_type": "stream",
     "text": [
      "[(1.68,)]\n"
     ]
    }
   ],
   "source": [
    "tip_amount = client.execute(\"SELECT round(avg(tip_amount), 2) FROM trips\")  \n",
    "print(tip_amount)"
   ]
  },
  {
   "cell_type": "code",
   "execution_count": 36,
   "metadata": {},
   "outputs": [
    {
     "data": {
      "text/plain": [
       "list"
      ]
     },
     "execution_count": 36,
     "metadata": {},
     "output_type": "execute_result"
    }
   ],
   "source": [
    "type(tip_amount)"
   ]
  },
  {
   "cell_type": "code",
   "execution_count": 37,
   "metadata": {},
   "outputs": [
    {
     "data": {
      "text/plain": [
       "1.68"
      ]
     },
     "execution_count": 37,
     "metadata": {},
     "output_type": "execute_result"
    }
   ],
   "source": [
    "tip_amount[0][0]"
   ]
  },
  {
   "cell_type": "code",
   "execution_count": 38,
   "metadata": {},
   "outputs": [
    {
     "name": "stderr",
     "output_type": "stream",
     "text": [
      "Error on b3xdjlz1rs.europe-west4.gcp.clickhouse.cloud:9440 ping: Unexpected EOF while reading bytes\n",
      "Connection was closed, reconnecting.\n"
     ]
    }
   ],
   "source": [
    "avg_price = client.execute(\n",
    "'''\n",
    "SELECT\n",
    "    passenger_count,\n",
    "    ceil(avg(total_amount),2) AS average_total_amount\n",
    "FROM trips\n",
    "GROUP BY passenger_count\n",
    "'''\n",
    ")"
   ]
  },
  {
   "cell_type": "code",
   "execution_count": 39,
   "metadata": {},
   "outputs": [],
   "source": [
    "import pandas as pd"
   ]
  },
  {
   "cell_type": "code",
   "execution_count": 40,
   "metadata": {},
   "outputs": [],
   "source": [
    "df = pd.DataFrame(avg_price, columns=(\"passenger_count\", \"average_total_amount\"))"
   ]
  },
  {
   "cell_type": "code",
   "execution_count": 41,
   "metadata": {},
   "outputs": [
    {
     "data": {
      "text/html": [
       "<div>\n",
       "<style scoped>\n",
       "    .dataframe tbody tr th:only-of-type {\n",
       "        vertical-align: middle;\n",
       "    }\n",
       "\n",
       "    .dataframe tbody tr th {\n",
       "        vertical-align: top;\n",
       "    }\n",
       "\n",
       "    .dataframe thead th {\n",
       "        text-align: right;\n",
       "    }\n",
       "</style>\n",
       "<table border=\"1\" class=\"dataframe\">\n",
       "  <thead>\n",
       "    <tr style=\"text-align: right;\">\n",
       "      <th></th>\n",
       "      <th>passenger_count</th>\n",
       "      <th>average_total_amount</th>\n",
       "    </tr>\n",
       "  </thead>\n",
       "  <tbody>\n",
       "    <tr>\n",
       "      <th>0</th>\n",
       "      <td>0</td>\n",
       "      <td>22.69</td>\n",
       "    </tr>\n",
       "    <tr>\n",
       "      <th>1</th>\n",
       "      <td>1</td>\n",
       "      <td>15.97</td>\n",
       "    </tr>\n",
       "    <tr>\n",
       "      <th>2</th>\n",
       "      <td>2</td>\n",
       "      <td>17.15</td>\n",
       "    </tr>\n",
       "    <tr>\n",
       "      <th>3</th>\n",
       "      <td>3</td>\n",
       "      <td>16.76</td>\n",
       "    </tr>\n",
       "    <tr>\n",
       "      <th>4</th>\n",
       "      <td>4</td>\n",
       "      <td>17.33</td>\n",
       "    </tr>\n",
       "    <tr>\n",
       "      <th>5</th>\n",
       "      <td>5</td>\n",
       "      <td>16.35</td>\n",
       "    </tr>\n",
       "    <tr>\n",
       "      <th>6</th>\n",
       "      <td>6</td>\n",
       "      <td>16.04</td>\n",
       "    </tr>\n",
       "    <tr>\n",
       "      <th>7</th>\n",
       "      <td>7</td>\n",
       "      <td>59.80</td>\n",
       "    </tr>\n",
       "    <tr>\n",
       "      <th>8</th>\n",
       "      <td>8</td>\n",
       "      <td>36.41</td>\n",
       "    </tr>\n",
       "    <tr>\n",
       "      <th>9</th>\n",
       "      <td>9</td>\n",
       "      <td>9.81</td>\n",
       "    </tr>\n",
       "  </tbody>\n",
       "</table>\n",
       "</div>"
      ],
      "text/plain": [
       "   passenger_count  average_total_amount\n",
       "0                0                 22.69\n",
       "1                1                 15.97\n",
       "2                2                 17.15\n",
       "3                3                 16.76\n",
       "4                4                 17.33\n",
       "5                5                 16.35\n",
       "6                6                 16.04\n",
       "7                7                 59.80\n",
       "8                8                 36.41\n",
       "9                9                  9.81"
      ]
     },
     "execution_count": 41,
     "metadata": {},
     "output_type": "execute_result"
    }
   ],
   "source": [
    "df"
   ]
  }
 ],
 "metadata": {
  "kernelspec": {
   "display_name": "Python 3",
   "language": "python",
   "name": "python3"
  },
  "language_info": {
   "codemirror_mode": {
    "name": "ipython",
    "version": 3
   },
   "file_extension": ".py",
   "mimetype": "text/x-python",
   "name": "python",
   "nbconvert_exporter": "python",
   "pygments_lexer": "ipython3",
   "version": "3.12.2"
  }
 },
 "nbformat": 4,
 "nbformat_minor": 2
}
