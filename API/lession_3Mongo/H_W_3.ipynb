{
 "cells": [
  {
   "cell_type": "code",
   "execution_count": 59,
   "metadata": {},
   "outputs": [],
   "source": [
    "import os\n",
    "from dotenv import load_dotenv\n",
    "load_dotenv()\n",
    "import json\n",
    "from pymongo import MongoClient"
   ]
  },
  {
   "cell_type": "code",
   "execution_count": 23,
   "metadata": {},
   "outputs": [],
   "source": [
    "# Чтение данных из JSON файла\n",
    "with open(\"books_from_books.toscrape.com.json\", \"r\", encoding='utf-8') as file:\n",
    "    data = json.load(file)"
   ]
  },
  {
   "cell_type": "code",
   "execution_count": 24,
   "metadata": {},
   "outputs": [],
   "source": [
    "# Соединение с MongoDB\n",
    "client = MongoClient('localhost', 27017)\n",
    "db = client['my_books_database']"
   ]
  },
  {
   "cell_type": "code",
   "execution_count": 25,
   "metadata": {},
   "outputs": [],
   "source": [
    "# Создание коллекции на основании данных из JSON файла\n",
    "collection_name = \"Список книг от 12-03-2024\"\n",
    "for item in data:\n",
    "    collection = db[collection_name]\n",
    "    collection.insert_one(item)\n",
    "\n",
    "client.close()"
   ]
  },
  {
   "cell_type": "code",
   "execution_count": 26,
   "metadata": {},
   "outputs": [],
   "source": [
    "# Установление связи с MongoDB\n",
    "client = MongoClient('localhost', 27017)\n",
    "db = client['my_books_database']\n",
    "collection = db['Список книг от 12-03-2024']"
   ]
  },
  {
   "cell_type": "code",
   "execution_count": 27,
   "metadata": {},
   "outputs": [
    {
     "name": "stdout",
     "output_type": "stream",
     "text": [
      "Количества документов в коллекции: 1000\n"
     ]
    }
   ],
   "source": [
    "#### Просмотр количества документов в коллекции\n",
    "document_count = collection.count_documents({})\n",
    "print(\"Количества документов в коллекции:\", document_count)"
   ]
  },
  {
   "cell_type": "code",
   "execution_count": 28,
   "metadata": {},
   "outputs": [
    {
     "name": "stdout",
     "output_type": "stream",
     "text": [
      "Количество книг дороже 59 фунтов -  12 :\n",
      "Название книги: Thomas Jefferson and the Tripoli Pirates: The Forgotten War That Changed American History\n",
      "Название книги: The Gray Rhino: How to Recognize and Act on the Obvious Dangers We Ignore\n",
      "Название книги: The Diary of a Young Girl\n",
      "Название книги: Boar Island (Anna Pigeon #19)\n",
      "Название книги: The Improbability of Love\n",
      "Название книги: The Man Who Mistook His Wife for a Hat and Other Clinical Tales\n",
      "Название книги: The Barefoot Contessa Cookbook\n",
      "Название книги: Last One Home (New Beginnings #1)\n",
      "Название книги: The Perfect Play (Play by Play #1)\n",
      "Название книги: The Bone Hunters (Lexy Vaughan & Steven Macaulay #2)\n",
      "Название книги: Life Without a Recipe\n",
      "Название книги: Civilization and Its Discontents\n"
     ]
    }
   ],
   "source": [
    "# Запрос количества и названий книг, дороже 50 фунтов\n",
    "query = {\"Цена в фунтах стерлингов\": {\"$gt\": 59.0}}\n",
    "\n",
    "# Получения документов, соответствующих запросу\n",
    "documents = collection.find(query)\n",
    "\n",
    "print(\"Количество книг дороже 59 фунтов - \", collection.count_documents(query), \":\")\n",
    "\n",
    "# Отображение названий книг\n",
    "for document in documents:\n",
    "    print(\"Название книги:\", document['Название'])"
   ]
  },
  {
   "cell_type": "code",
   "execution_count": 29,
   "metadata": {},
   "outputs": [
    {
     "name": "stdout",
     "output_type": "stream",
     "text": [
      "Минимальная цена: 10.0\n",
      "Максимальная цена: 59.99\n"
     ]
    }
   ],
   "source": [
    "### Запрос для определения максимальной и минимальной цены книги в коллекции\n",
    "\n",
    "# Определение конвеера для агрегации данных\n",
    "pipeline = [\n",
    "    {\"$group\": {\"_id\": None, \"max_price\": {\"$max\": \"$Цена в фунтах стерлингов\"}, \"min_price\": {\"$min\": \"$Цена в фунтах стерлингов\"}}}\n",
    "]\n",
    "\n",
    "# Применение конвеера\n",
    "result = list(collection.aggregate(pipeline))\n",
    "\n",
    "# Получение минимального и максимального значений\n",
    "max_price = result[0][\"max_price\"]\n",
    "min_price = result[0][\"min_price\"]\n",
    "\n",
    "# Печать результатов\n",
    "print(\"Минимальная цена:\", min_price)\n",
    "print(\"Максимальная цена:\", max_price)"
   ]
  },
  {
   "cell_type": "code",
   "execution_count": 31,
   "metadata": {},
   "outputs": [
    {
     "name": "stdout",
     "output_type": "stream",
     "text": [
      "Категория по стоимости: Низкая стоимость\n",
      "Количество в наличии: 912\n",
      "\n",
      "Категория по стоимости: Средная стоимость\n",
      "Количество в наличии: 1722\n",
      "\n",
      "Категория по стоимости: Высокая стоимость\n",
      "Количество в наличии: 5951\n",
      "\n",
      "Общее количество книг в наличии: 8585\n"
     ]
    }
   ],
   "source": [
    "# Создание конвеера для разбиения всех книг по стоимости на три категории: низкая стоимость (дешевле 15 фунтов), средня стоимость (от 15 до 25 фунтов) и высокая стоимость (выше 25 фунтов). Затем подсчет количества книг в каждой категории агрегацией по полю \"Количество в наличии\"\n",
    "pipeline_by_group = [\n",
    "    {\n",
    "        \"$group\": {\n",
    "            \"_id\": {\n",
    "                \"$cond\": {\n",
    "                    \"if\": {\"$lte\": [\"$Цена в фунтах стерлингов\", 15]},\n",
    "                    \"then\": \"Низкая стоимость\",\n",
    "                    \"else\": {\n",
    "                        \"$cond\": {\n",
    "                            \"if\": {\"$lte\": [\"$Цена в фунтах стерлингов\", 25]},\n",
    "                            \"then\": \"Средная стоимость\",\n",
    "                            \"else\": \"Высокая стоимость\"\n",
    "                        }\n",
    "                    }\n",
    "                }\n",
    "            },\n",
    "            \"Количество в наличии\": {\"$sum\": \"$Количество в наличии\"}\n",
    "        }\n",
    "    }\n",
    "]\n",
    "\n",
    "# Выполнение конвеера\n",
    "result_by_group = list(collection.aggregate(pipeline_by_group))\n",
    "\n",
    "# Печать результатов\n",
    "for category in result_by_group:\n",
    "    print(\"Категория по стоимости:\", category[\"_id\"])\n",
    "    print(\"Количество в наличии:\", category[\"Количество в наличии\"])\n",
    "    print()\n",
    "\n",
    "# Создание конвеера для определения суммарного количества всех книг по полю \"Количество в наличии\"\n",
    "pipeline_total_count = [\n",
    "    {\n",
    "        \"$group\": {\n",
    "            \"_id\": None,\n",
    "            \"total_count\": {\"$sum\": \"$Количество в наличии\"}\n",
    "        }\n",
    "    }\n",
    "]\n",
    "\n",
    "# Выполнение конвеера\n",
    "result_total_count = list(collection.aggregate(pipeline_total_count))\n",
    "\n",
    "# Отображение результата\n",
    "total_count = result_total_count[0]['total_count'] if result_total_count else 0\n",
    "print(\"Общее количество книг в наличии:\", total_count) #### совпадает с суммой книг в наличии по категориям стоимости"
   ]
  },
  {
   "cell_type": "markdown",
   "metadata": {},
   "source": [
    "Зарегистрируйтесь в ClickHouse.\n",
    "Загрузите данные в ClickHouse и создайте таблицу для их хранения"
   ]
  },
  {
   "cell_type": "code",
   "execution_count": 1,
   "metadata": {},
   "outputs": [
    {
     "name": "stdout",
     "output_type": "stream",
     "text": [
      "Collecting clickhouse_driver\n",
      "  Downloading clickhouse_driver-0.2.7-cp312-cp312-win_amd64.whl.metadata (6.3 kB)\n",
      "Requirement already satisfied: pytz in c:\\users\\ramze\\appdata\\local\\programs\\python\\python312\\lib\\site-packages (from clickhouse_driver) (2024.1)\n",
      "Collecting tzlocal (from clickhouse_driver)\n",
      "  Downloading tzlocal-5.2-py3-none-any.whl.metadata (7.8 kB)\n",
      "Requirement already satisfied: tzdata in c:\\users\\ramze\\appdata\\local\\programs\\python\\python312\\lib\\site-packages (from tzlocal->clickhouse_driver) (2024.1)\n",
      "Downloading clickhouse_driver-0.2.7-cp312-cp312-win_amd64.whl (212 kB)\n",
      "   ---------------------------------------- 0.0/212.2 kB ? eta -:--:--\n",
      "   - -------------------------------------- 10.2/212.2 kB ? eta -:--:--\n",
      "   ----- --------------------------------- 30.7/212.2 kB 262.6 kB/s eta 0:00:01\n",
      "   ------- ------------------------------- 41.0/212.2 kB 245.8 kB/s eta 0:00:01\n",
      "   ------------- ------------------------- 71.7/212.2 kB 357.2 kB/s eta 0:00:01\n",
      "   --------------------------- ---------- 153.6/212.2 kB 573.4 kB/s eta 0:00:01\n",
      "   ------------------------------------ - 204.8/212.2 kB 731.4 kB/s eta 0:00:01\n",
      "   -------------------------------------- 212.2/212.2 kB 645.3 kB/s eta 0:00:00\n",
      "Downloading tzlocal-5.2-py3-none-any.whl (17 kB)\n",
      "Installing collected packages: tzlocal, clickhouse_driver\n",
      "Successfully installed clickhouse_driver-0.2.7 tzlocal-5.2\n"
     ]
    }
   ],
   "source": [
    "!pip install clickhouse_driver"
   ]
  },
  {
   "cell_type": "code",
   "execution_count": 29,
   "metadata": {},
   "outputs": [],
   "source": [
    "from clickhouse_driver import Client"
   ]
  },
  {
   "cell_type": "code",
   "execution_count": 60,
   "metadata": {},
   "outputs": [],
   "source": [
    "client = Client(host = os.getenv(\"CL\"),\n",
    "                user = 'default',\n",
    "                secure = True,\n",
    "                port = 9440,\n",
    "                password = os.getenv('PASS'))\n"
   ]
  },
  {
   "cell_type": "markdown",
   "metadata": {},
   "source": [
    "Вопрос к преподователю подключен к порту с лекции 9440 мой порт 8443 выбивает ошибку с чем связано? подключение к клик хаус осущественно с помощю впн. в этом причина?"
   ]
  },
  {
   "cell_type": "code",
   "execution_count": 61,
   "metadata": {},
   "outputs": [
    {
     "data": {
      "text/plain": [
       "[('trips',)]"
      ]
     },
     "execution_count": 61,
     "metadata": {},
     "output_type": "execute_result"
    }
   ],
   "source": [
    "client.execute('SHOW TABLES')"
   ]
  },
  {
   "cell_type": "code",
   "execution_count": null,
   "metadata": {},
   "outputs": [],
   "source": [
    "client.execute (\n",
    "'''\n",
    "CREATE TABLE trips\n",
    "(\n",
    "    `trip_id` UInt32,\n",
    "    `vendor_id` Enum8('1' = 1, '2' = 2, '3' = 3, '4' = 4, 'CMT' = 5, 'VTS' = 6, 'DDS' = 7, 'B02512' = 10, 'B02598' = 11, 'B02617' = 12, 'B02682' = 13, 'B02764' = 14, '' = 15),\n",
    "    `pickup_date` Date,\n",
    "    `pickup_datetime` DateTime,\n",
    "    `dropoff_date` Date,\n",
    "    `dropoff_datetime` DateTime,\n",
    "    `store_and_fwd_flag` UInt8,\n",
    "    `rate_code_id` UInt8,\n",
    "    `pickup_longitude` Float64,\n",
    "    `pickup_latitude` Float64,\n",
    "    `dropoff_longitude` Float64,\n",
    "    `dropoff_latitude` Float64,\n",
    "    `passenger_count` UInt8,\n",
    "    `trip_distance` Float64,\n",
    "    `fare_amount` Float32,\n",
    "    `extra` Float32,\n",
    "    `mta_tax` Float32,\n",
    "    `tip_amount` Float32,\n",
    "    `tolls_amount` Float32,\n",
    "    `ehail_fee` Float32,\n",
    "    `improvement_surcharge` Float32,\n",
    "    `total_amount` Float32,\n",
    "    `payment_type` Enum8('UNK' = 0, 'CSH' = 1, 'CRE' = 2, 'NOC' = 3, 'DIS' = 4),\n",
    "    `trip_type` UInt8,\n",
    "    `pickup` FixedString(25),\n",
    "    `dropoff` FixedString(25),\n",
    "    `cab_type` Enum8('yellow' = 1, 'green' = 2, 'uber' = 3),\n",
    "    `pickup_nyct2010_gid` Int8,\n",
    "    `pickup_ctlabel` Float32,\n",
    "    `pickup_borocode` Int8,\n",
    "    `pickup_ct2010` String,\n",
    "    `pickup_boroct2010` String,\n",
    "    `pickup_cdeligibil` String,\n",
    "    `pickup_ntacode` FixedString(4),\n",
    "    `pickup_ntaname` String,\n",
    "    `pickup_puma` UInt16,\n",
    "    `dropoff_nyct2010_gid` UInt8,\n",
    "    `dropoff_ctlabel` Float32,\n",
    "    `dropoff_borocode` UInt8,\n",
    "    `dropoff_ct2010` String,\n",
    "    `dropoff_boroct2010` String,\n",
    "    `dropoff_cdeligibil` String,\n",
    "    `dropoff_ntacode` FixedString(4),\n",
    "    `dropoff_ntaname` String,\n",
    "    `dropoff_puma` UInt16\n",
    ")\n",
    "ENGINE = MergeTree\n",
    "PARTITION BY toYYYYMM(pickup_date)\n",
    "ORDER BY pickup_datetime;\n",
    "'''\n",
    ")"
   ]
  },
  {
   "cell_type": "code",
   "execution_count": 23,
   "metadata": {},
   "outputs": [
    {
     "name": "stderr",
     "output_type": "stream",
     "text": [
      "Error on b3xdjlz1rs.europe-west4.gcp.clickhouse.cloud:9440 ping: Unexpected EOF while reading bytes\n",
      "Connection was closed, reconnecting.\n"
     ]
    },
    {
     "data": {
      "text/plain": [
       "[]"
      ]
     },
     "execution_count": 23,
     "metadata": {},
     "output_type": "execute_result"
    }
   ],
   "source": [
    "client.execute(\n",
    "'''\n",
    "INSERT INTO trips\n",
    "SELECT * FROM s3(\n",
    "    'https://datasets-documentation.s3.eu-west-3.amazonaws.com/nyc-taxi/trips_{1..2}.gz',\n",
    "    'TabSeparatedWithNames', \"\n",
    "    `trip_id` UInt32,\n",
    "    `vendor_id` Enum8('1' = 1, '2' = 2, '3' = 3, '4' = 4, 'CMT' = 5, 'VTS' = 6, 'DDS' = 7, 'B02512' = 10, 'B02598' = 11, 'B02617' = 12, 'B02682' = 13, 'B02764' = 14, '' = 15),\n",
    "    `pickup_date` Date,\n",
    "    `pickup_datetime` DateTime,\n",
    "    `dropoff_date` Date,\n",
    "    `dropoff_datetime` DateTime,\n",
    "    `store_and_fwd_flag` UInt8,\n",
    "    `rate_code_id` UInt8,\n",
    "    `pickup_longitude` Float64,\n",
    "    `pickup_latitude` Float64,\n",
    "    `dropoff_longitude` Float64,\n",
    "    `dropoff_latitude` Float64,\n",
    "    `passenger_count` UInt8,\n",
    "    `trip_distance` Float64,\n",
    "    `fare_amount` Float32,\n",
    "    `extra` Float32,\n",
    "    `mta_tax` Float32,\n",
    "    `tip_amount` Float32,\n",
    "    `tolls_amount` Float32,\n",
    "    `ehail_fee` Float32,\n",
    "    `improvement_surcharge` Float32,\n",
    "    `total_amount` Float32,\n",
    "    `payment_type` Enum8('UNK' = 0, 'CSH' = 1, 'CRE' = 2, 'NOC' = 3, 'DIS' = 4),\n",
    "    `trip_type` UInt8,\n",
    "    `pickup` FixedString(25),\n",
    "    `dropoff` FixedString(25),\n",
    "    `cab_type` Enum8('yellow' = 1, 'green' = 2, 'uber' = 3),\n",
    "    `pickup_nyct2010_gid` Int8,\n",
    "    `pickup_ctlabel` Float32,\n",
    "    `pickup_borocode` Int8,\n",
    "    `pickup_ct2010` String,\n",
    "    `pickup_boroct2010` String,\n",
    "    `pickup_cdeligibil` String,\n",
    "    `pickup_ntacode` FixedString(4),\n",
    "    `pickup_ntaname` String,\n",
    "    `pickup_puma` UInt16,\n",
    "    `dropoff_nyct2010_gid` UInt8,\n",
    "    `dropoff_ctlabel` Float32,\n",
    "    `dropoff_borocode` UInt8,\n",
    "    `dropoff_ct2010` String,\n",
    "    `dropoff_boroct2010` String,\n",
    "    `dropoff_cdeligibil` String,\n",
    "    `dropoff_ntacode` FixedString(4),\n",
    "    `dropoff_ntaname` String,\n",
    "    `dropoff_puma` UInt16\n",
    "\") SETTINGS input_format_try_infer_datetimes = 0\n",
    "'''\n",
    ")"
   ]
  },
  {
   "cell_type": "code",
   "execution_count": 34,
   "metadata": {},
   "outputs": [
    {
     "data": {
      "text/plain": [
       "[(1999657,)]"
      ]
     },
     "execution_count": 34,
     "metadata": {},
     "output_type": "execute_result"
    }
   ],
   "source": [
    "client.execute(\"SELECT count() FROM trips\")"
   ]
  },
  {
   "cell_type": "code",
   "execution_count": 35,
   "metadata": {},
   "outputs": [
    {
     "name": "stdout",
     "output_type": "stream",
     "text": [
      "[(1.68,)]\n"
     ]
    }
   ],
   "source": [
    "tip_amount = client.execute(\"SELECT round(avg(tip_amount), 2) FROM trips\")  \n",
    "print(tip_amount)"
   ]
  },
  {
   "cell_type": "code",
   "execution_count": 36,
   "metadata": {},
   "outputs": [
    {
     "data": {
      "text/plain": [
       "list"
      ]
     },
     "execution_count": 36,
     "metadata": {},
     "output_type": "execute_result"
    }
   ],
   "source": [
    "type(tip_amount)"
   ]
  },
  {
   "cell_type": "code",
   "execution_count": 37,
   "metadata": {},
   "outputs": [
    {
     "data": {
      "text/plain": [
       "1.68"
      ]
     },
     "execution_count": 37,
     "metadata": {},
     "output_type": "execute_result"
    }
   ],
   "source": [
    "tip_amount[0][0]"
   ]
  },
  {
   "cell_type": "code",
   "execution_count": 38,
   "metadata": {},
   "outputs": [
    {
     "name": "stderr",
     "output_type": "stream",
     "text": [
      "Error on b3xdjlz1rs.europe-west4.gcp.clickhouse.cloud:9440 ping: Unexpected EOF while reading bytes\n",
      "Connection was closed, reconnecting.\n"
     ]
    }
   ],
   "source": [
    "avg_price = client.execute(\n",
    "'''\n",
    "SELECT\n",
    "    passenger_count,\n",
    "    ceil(avg(total_amount),2) AS average_total_amount\n",
    "FROM trips\n",
    "GROUP BY passenger_count\n",
    "'''\n",
    ")"
   ]
  },
  {
   "cell_type": "code",
   "execution_count": 39,
   "metadata": {},
   "outputs": [],
   "source": [
    "import pandas as pd"
   ]
  },
  {
   "cell_type": "code",
   "execution_count": 40,
   "metadata": {},
   "outputs": [],
   "source": [
    "df = pd.DataFrame(avg_price, columns=(\"passenger_count\", \"average_total_amount\"))"
   ]
  },
  {
   "cell_type": "code",
   "execution_count": 41,
   "metadata": {},
   "outputs": [
    {
     "data": {
      "text/html": [
       "<div>\n",
       "<style scoped>\n",
       "    .dataframe tbody tr th:only-of-type {\n",
       "        vertical-align: middle;\n",
       "    }\n",
       "\n",
       "    .dataframe tbody tr th {\n",
       "        vertical-align: top;\n",
       "    }\n",
       "\n",
       "    .dataframe thead th {\n",
       "        text-align: right;\n",
       "    }\n",
       "</style>\n",
       "<table border=\"1\" class=\"dataframe\">\n",
       "  <thead>\n",
       "    <tr style=\"text-align: right;\">\n",
       "      <th></th>\n",
       "      <th>passenger_count</th>\n",
       "      <th>average_total_amount</th>\n",
       "    </tr>\n",
       "  </thead>\n",
       "  <tbody>\n",
       "    <tr>\n",
       "      <th>0</th>\n",
       "      <td>0</td>\n",
       "      <td>22.69</td>\n",
       "    </tr>\n",
       "    <tr>\n",
       "      <th>1</th>\n",
       "      <td>1</td>\n",
       "      <td>15.97</td>\n",
       "    </tr>\n",
       "    <tr>\n",
       "      <th>2</th>\n",
       "      <td>2</td>\n",
       "      <td>17.15</td>\n",
       "    </tr>\n",
       "    <tr>\n",
       "      <th>3</th>\n",
       "      <td>3</td>\n",
       "      <td>16.76</td>\n",
       "    </tr>\n",
       "    <tr>\n",
       "      <th>4</th>\n",
       "      <td>4</td>\n",
       "      <td>17.33</td>\n",
       "    </tr>\n",
       "    <tr>\n",
       "      <th>5</th>\n",
       "      <td>5</td>\n",
       "      <td>16.35</td>\n",
       "    </tr>\n",
       "    <tr>\n",
       "      <th>6</th>\n",
       "      <td>6</td>\n",
       "      <td>16.04</td>\n",
       "    </tr>\n",
       "    <tr>\n",
       "      <th>7</th>\n",
       "      <td>7</td>\n",
       "      <td>59.80</td>\n",
       "    </tr>\n",
       "    <tr>\n",
       "      <th>8</th>\n",
       "      <td>8</td>\n",
       "      <td>36.41</td>\n",
       "    </tr>\n",
       "    <tr>\n",
       "      <th>9</th>\n",
       "      <td>9</td>\n",
       "      <td>9.81</td>\n",
       "    </tr>\n",
       "  </tbody>\n",
       "</table>\n",
       "</div>"
      ],
      "text/plain": [
       "   passenger_count  average_total_amount\n",
       "0                0                 22.69\n",
       "1                1                 15.97\n",
       "2                2                 17.15\n",
       "3                3                 16.76\n",
       "4                4                 17.33\n",
       "5                5                 16.35\n",
       "6                6                 16.04\n",
       "7                7                 59.80\n",
       "8                8                 36.41\n",
       "9                9                  9.81"
      ]
     },
     "execution_count": 41,
     "metadata": {},
     "output_type": "execute_result"
    }
   ],
   "source": [
    "df"
   ]
  }
 ],
 "metadata": {
  "kernelspec": {
   "display_name": "Python 3",
   "language": "python",
   "name": "python3"
  },
  "language_info": {
   "codemirror_mode": {
    "name": "ipython",
    "version": 3
   },
   "file_extension": ".py",
   "mimetype": "text/x-python",
   "name": "python",
   "nbconvert_exporter": "python",
   "pygments_lexer": "ipython3",
   "version": "3.12.2"
  }
 },
 "nbformat": 4,
 "nbformat_minor": 2
}
